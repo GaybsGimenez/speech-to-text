{
 "cells": [
  {
   "cell_type": "code",
   "execution_count": 2,
   "metadata": {},
   "outputs": [
    {
     "name": "stdout",
     "output_type": "stream",
     "text": [
      "Collecting SpeechRecognitionNote: you may need to restart the kernel to use updated packages.\n"
     ]
    },
    {
     "name": "stderr",
     "output_type": "stream",
     "text": [
      "\n",
      "[notice] A new release of pip is available: 23.3.2 -> 24.0\n",
      "[notice] To update, run: python.exe -m pip install --upgrade pip\n"
     ]
    },
    {
     "name": "stdout",
     "output_type": "stream",
     "text": [
      "\n",
      "  Downloading SpeechRecognition-3.10.1-py2.py3-none-any.whl.metadata (28 kB)\n",
      "Requirement already satisfied: requests>=2.26.0 in c:\\users\\55169\\onedrive\\área de trabalho\\classificacao de audio\\env-audio\\lib\\site-packages (from SpeechRecognition) (2.31.0)\n",
      "Requirement already satisfied: typing-extensions in c:\\users\\55169\\onedrive\\área de trabalho\\classificacao de audio\\env-audio\\lib\\site-packages (from SpeechRecognition) (4.5.0)\n",
      "Requirement already satisfied: charset-normalizer<4,>=2 in c:\\users\\55169\\onedrive\\área de trabalho\\classificacao de audio\\env-audio\\lib\\site-packages (from requests>=2.26.0->SpeechRecognition) (3.3.2)\n",
      "Requirement already satisfied: idna<4,>=2.5 in c:\\users\\55169\\onedrive\\área de trabalho\\classificacao de audio\\env-audio\\lib\\site-packages (from requests>=2.26.0->SpeechRecognition) (3.6)\n",
      "Requirement already satisfied: urllib3<3,>=1.21.1 in c:\\users\\55169\\onedrive\\área de trabalho\\classificacao de audio\\env-audio\\lib\\site-packages (from requests>=2.26.0->SpeechRecognition) (2.1.0)\n",
      "Requirement already satisfied: certifi>=2017.4.17 in c:\\users\\55169\\onedrive\\área de trabalho\\classificacao de audio\\env-audio\\lib\\site-packages (from requests>=2.26.0->SpeechRecognition) (2023.11.17)\n",
      "Downloading SpeechRecognition-3.10.1-py2.py3-none-any.whl (32.8 MB)\n",
      "   ---------------------------------------- 0.0/32.8 MB ? eta -:--:--\n",
      "    --------------------------------------- 0.5/32.8 MB 14.2 MB/s eta 0:00:03\n",
      "   - -------------------------------------- 1.5/32.8 MB 18.8 MB/s eta 0:00:02\n",
      "   -- ------------------------------------- 2.1/32.8 MB 22.4 MB/s eta 0:00:02\n",
      "   --- ------------------------------------ 3.2/32.8 MB 18.7 MB/s eta 0:00:02\n",
      "   ----- ---------------------------------- 4.2/32.8 MB 20.6 MB/s eta 0:00:02\n",
      "   ------ --------------------------------- 5.1/32.8 MB 20.4 MB/s eta 0:00:02\n",
      "   ------- -------------------------------- 6.6/32.8 MB 22.1 MB/s eta 0:00:02\n",
      "   --------- ------------------------------ 7.7/32.8 MB 24.6 MB/s eta 0:00:02\n",
      "   ---------- ----------------------------- 8.7/32.8 MB 24.3 MB/s eta 0:00:01\n",
      "   ------------ --------------------------- 10.5/32.8 MB 26.2 MB/s eta 0:00:01\n",
      "   -------------- ------------------------- 11.5/32.8 MB 26.2 MB/s eta 0:00:01\n",
      "   -------------- ------------------------- 11.8/32.8 MB 25.1 MB/s eta 0:00:01\n",
      "   --------------- ------------------------ 13.1/32.8 MB 26.2 MB/s eta 0:00:01\n",
      "   ----------------- ---------------------- 14.4/32.8 MB 28.5 MB/s eta 0:00:01\n",
      "   ------------------- -------------------- 15.8/32.8 MB 27.3 MB/s eta 0:00:01\n",
      "   -------------------- ------------------- 17.0/32.8 MB 27.3 MB/s eta 0:00:01\n",
      "   ---------------------- ----------------- 18.2/32.8 MB 27.3 MB/s eta 0:00:01\n",
      "   ---------------------- ----------------- 18.9/32.8 MB 25.2 MB/s eta 0:00:01\n",
      "   ----------------------- ---------------- 19.0/32.8 MB 24.2 MB/s eta 0:00:01\n",
      "   ------------------------ --------------- 20.0/32.8 MB 22.6 MB/s eta 0:00:01\n",
      "   ------------------------- -------------- 21.1/32.8 MB 21.1 MB/s eta 0:00:01\n",
      "   -------------------------- ------------- 22.1/32.8 MB 22.6 MB/s eta 0:00:01\n",
      "   ---------------------------- ----------- 23.1/32.8 MB 22.5 MB/s eta 0:00:01\n",
      "   ----------------------------- ---------- 24.1/32.8 MB 21.1 MB/s eta 0:00:01\n",
      "   ----------------------------- ---------- 24.1/32.8 MB 21.1 MB/s eta 0:00:01\n",
      "   ----------------------------- ---------- 24.1/32.8 MB 21.1 MB/s eta 0:00:01\n",
      "   ----------------------------- ---------- 24.1/32.8 MB 21.1 MB/s eta 0:00:01\n",
      "   ----------------------------- ---------- 24.1/32.8 MB 21.1 MB/s eta 0:00:01\n",
      "   ----------------------------- ---------- 24.6/32.8 MB 14.6 MB/s eta 0:00:01\n",
      "   ------------------------------- -------- 25.6/32.8 MB 13.9 MB/s eta 0:00:01\n",
      "   -------------------------------- ------- 26.7/32.8 MB 13.9 MB/s eta 0:00:01\n",
      "   --------------------------------- ------ 27.3/32.8 MB 13.6 MB/s eta 0:00:01\n",
      "   ---------------------------------- ----- 28.2/32.8 MB 13.1 MB/s eta 0:00:01\n",
      "   ----------------------------------- ---- 29.6/32.8 MB 13.9 MB/s eta 0:00:01\n",
      "   ------------------------------------- -- 30.8/32.8 MB 14.6 MB/s eta 0:00:01\n",
      "   ---------------------------------------  32.2/32.8 MB 14.2 MB/s eta 0:00:01\n",
      "   ---------------------------------------  32.8/32.8 MB 14.6 MB/s eta 0:00:01\n",
      "   ---------------------------------------  32.8/32.8 MB 14.6 MB/s eta 0:00:01\n",
      "   ---------------------------------------  32.8/32.8 MB 14.6 MB/s eta 0:00:01\n",
      "   ---------------------------------------  32.8/32.8 MB 14.6 MB/s eta 0:00:01\n",
      "   ---------------------------------------  32.8/32.8 MB 14.6 MB/s eta 0:00:01\n",
      "   ---------------------------------------  32.8/32.8 MB 14.6 MB/s eta 0:00:01\n",
      "   ---------------------------------------- 32.8/32.8 MB 10.5 MB/s eta 0:00:00\n",
      "Installing collected packages: SpeechRecognition\n",
      "Successfully installed SpeechRecognition-3.10.1\n"
     ]
    }
   ],
   "source": [
    "%pip install SpeechRecognition"
   ]
  },
  {
   "cell_type": "code",
   "execution_count": 7,
   "metadata": {},
   "outputs": [
    {
     "name": "stdout",
     "output_type": "stream",
     "text": [
      "Transcrição concluída. As transcrições foram salvas em transcricoes.csv\n"
     ]
    }
   ],
   "source": [
    "import os\n",
    "import csv\n",
    "import speech_recognition as sr\n",
    "\n",
    "def transcrever_audio(audio_path):\n",
    "    recognizer = sr.Recognizer()\n",
    "    with sr.AudioFile(audio_path) as source:\n",
    "        audio_data = recognizer.record(source)\n",
    "    try:\n",
    "        text = recognizer.recognize_google(audio_data, language='pt-BR')\n",
    "        return text\n",
    "    except sr.UnknownValueError:\n",
    "        return \"[Erro] Não foi possível transcrever o áudio\"\n",
    "    except sr.RequestError as e:\n",
    "        return f\"[Erro] Não foi possível acessar o serviço de reconhecimento de voz: {e}\"\n",
    "\n",
    "def main():\n",
    "    pasta_audios = 'PT-BR-SSDforSER'\n",
    "    arquivo_csv = 'transcricoes.csv'\n",
    "\n",
    "    with open(arquivo_csv, mode='w', newline='', encoding='utf-8') as file:\n",
    "        writer = csv.writer(file)\n",
    "        writer.writerow(['Arquivo de Áudio', 'Transcrição'])\n",
    "\n",
    "        for arquivo in os.listdir(pasta_audios):\n",
    "            if arquivo.endswith('.wav'):\n",
    "                caminho_audio = os.path.join(pasta_audios, arquivo)\n",
    "                transcrição = transcrever_audio(caminho_audio)\n",
    "                writer.writerow([arquivo, transcrição])\n",
    "\n",
    "    print(\"Transcrição concluída. As transcrições foram salvas em\", arquivo_csv)\n",
    "\n",
    "if __name__ == \"__main__\":\n",
    "    main()\n"
   ]
  }
 ],
 "metadata": {
  "kernelspec": {
   "display_name": "env-audio",
   "language": "python",
   "name": "python3"
  },
  "language_info": {
   "codemirror_mode": {
    "name": "ipython",
    "version": 3
   },
   "file_extension": ".py",
   "mimetype": "text/x-python",
   "name": "python",
   "nbconvert_exporter": "python",
   "pygments_lexer": "ipython3",
   "version": "3.11.4"
  }
 },
 "nbformat": 4,
 "nbformat_minor": 2
}
